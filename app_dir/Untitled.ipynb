{
 "cells": [
  {
   "cell_type": "code",
   "execution_count": 1,
   "id": "27b64f67-c354-48a1-8953-97cc9e19c682",
   "metadata": {},
   "outputs": [
    {
     "name": "stdout",
     "output_type": "stream",
     "text": [
      "Python 3.10.8\n"
     ]
    }
   ],
   "source": [
    "!python --version"
   ]
  },
  {
   "cell_type": "code",
   "execution_count": 2,
   "id": "b38a56d2-d0aa-45ea-a55f-a3704810263e",
   "metadata": {},
   "outputs": [
    {
     "name": "stdout",
     "output_type": "stream",
     "text": [
      "/app/notebooks\n"
     ]
    }
   ],
   "source": [
    "!pwd"
   ]
  },
  {
   "cell_type": "code",
   "execution_count": 3,
   "id": "6c2bac37-a02e-496a-993c-4c53eb9b88a3",
   "metadata": {},
   "outputs": [
    {
     "name": "stdout",
     "output_type": "stream",
     "text": [
      "/app\n"
     ]
    }
   ],
   "source": [
    "%cd .."
   ]
  },
  {
   "cell_type": "code",
   "execution_count": 4,
   "id": "d84c0e22-cedd-4871-854f-1ab90b3df177",
   "metadata": {},
   "outputs": [
    {
     "name": "stdout",
     "output_type": "stream",
     "text": [
      "/app/workspace\n"
     ]
    }
   ],
   "source": [
    "%cd workspace"
   ]
  },
  {
   "cell_type": "code",
   "execution_count": 5,
   "id": "aa6a9d49-5a74-40be-a12b-f408122c3b35",
   "metadata": {},
   "outputs": [
    {
     "name": "stdout",
     "output_type": "stream",
     "text": [
      "CloudComPy_Conda310_Linux64_20231026.tgz  README.md\n",
      "Dockerfile\t\t\t\t  docker-compose.yaml\n"
     ]
    }
   ],
   "source": [
    "!ls"
   ]
  },
  {
   "cell_type": "code",
   "execution_count": 6,
   "id": "e5f3dea9-0071-4f4d-9674-ad5024e5f0b4",
   "metadata": {},
   "outputs": [
    {
     "name": "stdout",
     "output_type": "stream",
     "text": [
      "Cloning into 'CloudCompare-PythonPlugin'...\n",
      "remote: Enumerating objects: 5337, done.\u001b[K\n",
      "remote: Counting objects: 100% (1801/1801), done.\u001b[K\n",
      "remote: Compressing objects: 100% (647/647), done.\u001b[K\n",
      "remote: Total 5337 (delta 1233), reused 1584 (delta 1105), pack-reused 3536\u001b[K\n",
      "Receiving objects: 100% (5337/5337), 16.17 MiB | 159.00 KiB/s, done.\n",
      "Resolving deltas: 100% (3544/3544), done.\n",
      "/bin/sh: 1: %cd: not found\n"
     ]
    }
   ],
   "source": [
    "!git clone  https://github.com/tmontaigu/CloudCompare-PythonPlugin.git "
   ]
  },
  {
   "cell_type": "code",
   "execution_count": 7,
   "id": "7c9bc8bb-8278-4479-8fbb-f4a8b84bdf60",
   "metadata": {},
   "outputs": [
    {
     "name": "stdout",
     "output_type": "stream",
     "text": [
      "/app/workspace/CloudCompare-PythonPlugin\n"
     ]
    }
   ],
   "source": [
    "%cd CloudCompare-PythonPlugin"
   ]
  },
  {
   "cell_type": "code",
   "execution_count": 8,
   "id": "60a0a8aa-4b4d-46b1-ae13-19fac10dd0d1",
   "metadata": {},
   "outputs": [
    {
     "name": "stdout",
     "output_type": "stream",
     "text": [
      "CMakeLists.txt\t\t       docs\t\t\t script_examples\n",
      "CloudCompare-PythonPlugin.qrc  images\t\t\t src\n",
      "Contributors.md\t\t       info.json\t\t tasks.py\n",
      "Readme.md\t\t       installer\t\t tests\n",
      "cmake\t\t\t       requirements-dev.txt\t wrapper\n",
      "cmake-format.yaml\t       requirements-release.txt\n"
     ]
    }
   ],
   "source": [
    "!ls"
   ]
  },
  {
   "cell_type": "code",
   "execution_count": 9,
   "id": "55a133be-31c6-430d-889e-c1a8be6849e7",
   "metadata": {},
   "outputs": [
    {
     "name": "stdout",
     "output_type": "stream",
     "text": [
      "Processing ./wrapper/cccorelib\n",
      "  Installing build dependencies ... \u001b[?25ldone\n",
      "\u001b[?25h  Getting requirements to build wheel ... \u001b[?25ldone\n",
      "\u001b[?25h  Preparing metadata (pyproject.toml) ... \u001b[?25ldone\n",
      "\u001b[?25hRequirement already satisfied: numpy in /opt/conda/envs/CloudComPy310/lib/python3.10/site-packages (from cccorelib==0.0.1) (1.22.4)\n",
      "Building wheels for collected packages: cccorelib\n",
      "  Building wheel for cccorelib (pyproject.toml) ... \u001b[?25ldone\n",
      "\u001b[?25h  Created wheel for cccorelib: filename=cccorelib-0.0.1-cp310-cp310-linux_x86_64.whl size=848234 sha256=7339fa70c330c23f2c5fc44eb13ae7d446154888e85b232bc46f24cf48c970cf\n",
      "  Stored in directory: /tmp/pip-ephem-wheel-cache-jypzejyw/wheels/67/f3/ae/690baa1ee8d70f33496a1ad39d04f5a0ae2dd1654568885746\n",
      "Successfully built cccorelib\n",
      "Installing collected packages: cccorelib\n",
      "Successfully installed cccorelib-0.0.1\n",
      "\u001b[33mWARNING: Running pip as the 'root' user can result in broken permissions and conflicting behaviour with the system package manager. It is recommended to use a virtual environment instead: https://pip.pypa.io/warnings/venv\u001b[0m\u001b[33m\n",
      "\u001b[0mProcessing ./wrapper/pycc\n",
      "  Installing build dependencies ... \u001b[?25ldone\n",
      "\u001b[?25h  Getting requirements to build wheel ... \u001b[?25ldone\n",
      "\u001b[?25h  Preparing metadata (pyproject.toml) ... \u001b[?25ldone\n",
      "\u001b[?25hBuilding wheels for collected packages: pycc\n",
      "  Building wheel for pycc (pyproject.toml) ... \u001b[?25ldone\n",
      "\u001b[?25h  Created wheel for pycc: filename=pycc-0.0.1-cp310-cp310-linux_x86_64.whl size=2054410 sha256=dda928b68376539d4761da4d805d4864b057192049f6fac0c3691b3acd842e85\n",
      "  Stored in directory: /tmp/pip-ephem-wheel-cache-q0bnil39/wheels/0c/75/a8/5a2f5b9a724c7c3827f10d04fea1dace2c8efee2d6e739c5a4\n",
      "Successfully built pycc\n",
      "Installing collected packages: pycc\n",
      "Successfully installed pycc-0.0.1\n",
      "\u001b[33mWARNING: Running pip as the 'root' user can result in broken permissions and conflicting behaviour with the system package manager. It is recommended to use a virtual environment instead: https://pip.pypa.io/warnings/venv\u001b[0m\u001b[33m\n",
      "\u001b[0m"
     ]
    }
   ],
   "source": [
    "!pip install wrapper/cccorelib\n",
    "!pip install wrapper/pycc"
   ]
  },
  {
   "cell_type": "code",
   "execution_count": null,
   "id": "cc13e6f2-4949-43e5-9e8e-ee5a8d7892ef",
   "metadata": {},
   "outputs": [],
   "source": []
  }
 ],
 "metadata": {
  "kernelspec": {
   "display_name": "Python 3 (ipykernel)",
   "language": "python",
   "name": "python3"
  },
  "language_info": {
   "codemirror_mode": {
    "name": "ipython",
    "version": 3
   },
   "file_extension": ".py",
   "mimetype": "text/x-python",
   "name": "python",
   "nbconvert_exporter": "python",
   "pygments_lexer": "ipython3",
   "version": "3.10.8"
  }
 },
 "nbformat": 4,
 "nbformat_minor": 5
}
